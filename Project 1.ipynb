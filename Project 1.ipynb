{
 "cells": [
  {
   "cell_type": "markdown",
   "metadata": {},
   "source": [
    "## Overview\n",
    "1. Import only training datasets since kaggle's sorcing system does not function correctly\n",
    "2. Split training data sets into two parts: training & testing sets\n",
    "3. Feature engineering\n",
    "    * Since each sample covers 10 sensor channels and 128 measurements per time series, we need to group these measurements into one sample\n",
    "    * Measurements are extracted by grouping the series on functions: max, min, median, mean, std, absolute maximum and quantiles\n",
    "4. Use Random Forest Classifier (from scikit-learn) to train the model\n",
    "5. Check model accuracy\n",
    "    * OOB score\n",
    "    * 10-Fold cross validation\n",
    "    * 20 samples testing data"
   ]
  },
  {
   "cell_type": "code",
   "execution_count": 1,
   "metadata": {},
   "outputs": [],
   "source": [
    "import numpy as np\n",
    "import pandas as pd\n",
    "import matplotlib.pyplot as plt\n",
    "import seaborn as sns\n",
    "from sklearn.ensemble import RandomForestClassifier\n",
    "from sklearn.model_selection import cross_val_score\n",
    "import warnings\n",
    "warnings.filterwarnings('ignore')"
   ]
  },
  {
   "cell_type": "markdown",
   "metadata": {},
   "source": [
    "## Read in Kaggle datasets"
   ]
  },
  {
   "cell_type": "code",
   "execution_count": 2,
   "metadata": {},
   "outputs": [],
   "source": [
    "X_train = pd.read_csv('./Data/career-con-2019/X_train.csv')\n",
    "y_train = pd.read_csv('./Data/career-con-2019/y_train.csv')"
   ]
  },
  {
   "cell_type": "markdown",
   "metadata": {},
   "source": [
    "Let's see what the training set looks like  \n",
    "It has 487680 samples, each has 13 features (not all of them are usable and will be dropped later)"
   ]
  },
  {
   "cell_type": "code",
   "execution_count": 3,
   "metadata": {},
   "outputs": [
    {
     "data": {
      "text/plain": [
       "(2, (487680, 13))"
      ]
     },
     "execution_count": 3,
     "metadata": {},
     "output_type": "execute_result"
    }
   ],
   "source": [
    "X_train.ndim, X_train.shape"
   ]
  },
  {
   "cell_type": "markdown",
   "metadata": {},
   "source": [
    "Now let's split training sets into two parts\n",
    "* Last 20 groups will be used as testing set\n",
    "* Rest will be used as traning set"
   ]
  },
  {
   "cell_type": "code",
   "execution_count": 4,
   "metadata": {},
   "outputs": [],
   "source": [
    "# split X_train\n",
    "samples = 20\n",
    "time_series = 128\n",
    "start_x = X_train.shape[0] - samples*time_series\n",
    "X_train, X_test = X_train.iloc[:start_x], X_train.iloc[start_x:]\n",
    "# split y_train\n",
    "start_y = y_train.shape[0] - samples\n",
    "y_train, y_test = y_train.iloc[:start_y], y_train.iloc[start_y:]"
   ]
  },
  {
   "cell_type": "markdown",
   "metadata": {},
   "source": [
    "Before we go on to modify the data, first check out the information of the set  \n",
    "This can give us some insight of the data"
   ]
  },
  {
   "cell_type": "code",
   "execution_count": 5,
   "metadata": {},
   "outputs": [
    {
     "name": "stdout",
     "output_type": "stream",
     "text": [
      "<class 'pandas.core.frame.DataFrame'>\n",
      "RangeIndex: 485120 entries, 0 to 485119\n",
      "Data columns (total 13 columns):\n",
      " #   Column                 Non-Null Count   Dtype  \n",
      "---  ------                 --------------   -----  \n",
      " 0   row_id                 485120 non-null  object \n",
      " 1   series_id              485120 non-null  int64  \n",
      " 2   measurement_number     485120 non-null  int64  \n",
      " 3   orientation_X          485120 non-null  float64\n",
      " 4   orientation_Y          485120 non-null  float64\n",
      " 5   orientation_Z          485120 non-null  float64\n",
      " 6   orientation_W          485120 non-null  float64\n",
      " 7   angular_velocity_X     485120 non-null  float64\n",
      " 8   angular_velocity_Y     485120 non-null  float64\n",
      " 9   angular_velocity_Z     485120 non-null  float64\n",
      " 10  linear_acceleration_X  485120 non-null  float64\n",
      " 11  linear_acceleration_Y  485120 non-null  float64\n",
      " 12  linear_acceleration_Z  485120 non-null  float64\n",
      "dtypes: float64(10), int64(2), object(1)\n",
      "memory usage: 48.1+ MB\n"
     ]
    }
   ],
   "source": [
    "X_train.info()"
   ]
  },
  {
   "cell_type": "markdown",
   "metadata": {},
   "source": [
    "Also let's see how many series each type has"
   ]
  },
  {
   "cell_type": "code",
   "execution_count": 6,
   "metadata": {},
   "outputs": [
    {
     "data": {
      "text/plain": [
       "<matplotlib.axes._subplots.AxesSubplot at 0x1a1c332208>"
      ]
     },
     "execution_count": 6,
     "metadata": {},
     "output_type": "execute_result"
    },
    {
     "data": {
      "image/png": "[encoded data removed]",
      "text/plain": [
       "<Figure size 432x288 with 1 Axes>"
      ]
     },
     "metadata": {
      "needs_background": "light"
     },
     "output_type": "display_data"
    }
   ],
   "source": [
    "y_train['surface'].value_counts().plot(kind='barh')"
   ]
  },
  {
   "cell_type": "code",
   "execution_count": 7,
   "metadata": {},
   "outputs": [
    {
     "data": {
      "text/plain": [
       "((485120, 13), (3790, 3), (2560, 13), (20, 3))"
      ]
     },
     "execution_count": 7,
     "metadata": {},
     "output_type": "execute_result"
    }
   ],
   "source": [
    "X_train.shape, y_train.shape, X_test.shape, y_test.shape"
   ]
  },
  {
   "cell_type": "code",
   "execution_count": 8,
   "metadata": {},
   "outputs": [
    {
     "data": {
      "text/html": [
       "<div>\n",
       "<style scoped>\n",
       "    .dataframe tbody tr th:only-of-type {\n",
       "        vertical-align: middle;\n",
       "    }\n",
       "\n",
       "    .dataframe tbody tr th {\n",
       "        vertical-align: top;\n",
       "    }\n",
       "\n",
       "    .dataframe thead th {\n",
       "        text-align: right;\n",
       "    }\n",
       "</style>\n",
       "<table border=\"1\" class=\"dataframe\">\n",
       "  <thead>\n",
       "    <tr style=\"text-align: right;\">\n",
       "      <th></th>\n",
       "      <th>row_id</th>\n",
       "      <th>series_id</th>\n",
       "      <th>measurement_number</th>\n",
       "      <th>orientation_X</th>\n",
       "      <th>orientation_Y</th>\n",
       "      <th>orientation_Z</th>\n",
       "      <th>orientation_W</th>\n",
       "      <th>angular_velocity_X</th>\n",
       "      <th>angular_velocity_Y</th>\n",
       "      <th>angular_velocity_Z</th>\n",
       "      <th>linear_acceleration_X</th>\n",
       "      <th>linear_acceleration_Y</th>\n",
       "      <th>linear_acceleration_Z</th>\n",
       "    </tr>\n",
       "  </thead>\n",
       "  <tbody>\n",
       "    <tr>\n",
       "      <th>0</th>\n",
       "      <td>0_0</td>\n",
       "      <td>0</td>\n",
       "      <td>0</td>\n",
       "      <td>-0.75853</td>\n",
       "      <td>-0.63435</td>\n",
       "      <td>-0.10488</td>\n",
       "      <td>-0.10597</td>\n",
       "      <td>0.10765</td>\n",
       "      <td>0.017561</td>\n",
       "      <td>0.000767</td>\n",
       "      <td>-0.74857</td>\n",
       "      <td>2.103</td>\n",
       "      <td>-9.7532</td>\n",
       "    </tr>\n",
       "  </tbody>\n",
       "</table>\n",
       "</div>"
      ],
      "text/plain": [
       "  row_id  series_id  measurement_number  orientation_X  orientation_Y  \\\n",
       "0    0_0          0                   0       -0.75853       -0.63435   \n",
       "\n",
       "   orientation_Z  orientation_W  angular_velocity_X  angular_velocity_Y  \\\n",
       "0       -0.10488       -0.10597             0.10765            0.017561   \n",
       "\n",
       "   angular_velocity_Z  linear_acceleration_X  linear_acceleration_Y  \\\n",
       "0            0.000767               -0.74857                  2.103   \n",
       "\n",
       "   linear_acceleration_Z  \n",
       "0                -9.7532  "
      ]
     },
     "execution_count": 8,
     "metadata": {},
     "output_type": "execute_result"
    }
   ],
   "source": [
    "X_train.head(1)"
   ]
  },
  {
   "cell_type": "code",
   "execution_count": 9,
   "metadata": {},
   "outputs": [
    {
     "data": {
      "text/plain": [
       "Index(['row_id', 'series_id', 'measurement_number', 'orientation_X',\n",
       "       'orientation_Y', 'orientation_Z', 'orientation_W', 'angular_velocity_X',\n",
       "       'angular_velocity_Y', 'angular_velocity_Z', 'linear_acceleration_X',\n",
       "       'linear_acceleration_Y', 'linear_acceleration_Z'],\n",
       "      dtype='object')"
      ]
     },
     "execution_count": 9,
     "metadata": {},
     "output_type": "execute_result"
    }
   ],
   "source": [
    "X_train.keys()"
   ]
  },
  {
   "cell_type": "code",
   "execution_count": 10,
   "metadata": {},
   "outputs": [
    {
     "data": {
      "text/plain": [
       "Index(['series_id', 'group_id', 'surface'], dtype='object')"
      ]
     },
     "execution_count": 10,
     "metadata": {},
     "output_type": "execute_result"
    }
   ],
   "source": [
    "y_train.keys()"
   ]
  },
  {
   "cell_type": "markdown",
   "metadata": {},
   "source": [
    "## Process datasets\n",
    "The first thing we want to do is to drop those useless columns (features)"
   ]
  },
  {
   "cell_type": "code",
   "execution_count": 11,
   "metadata": {},
   "outputs": [],
   "source": [
    "X_train = X_train.drop(['row_id', 'measurement_number'], axis=1)\n",
    "X_test = X_test.drop(['row_id', 'measurement_number'], axis=1)\n",
    "y_train = y_train.drop('group_id', axis=1)\n",
    "y_test = y_test.drop('group_id', axis=1)"
   ]
  },
  {
   "cell_type": "code",
   "execution_count": 12,
   "metadata": {},
   "outputs": [
    {
     "data": {
      "text/html": [
       "<div>\n",
       "<style scoped>\n",
       "    .dataframe tbody tr th:only-of-type {\n",
       "        vertical-align: middle;\n",
       "    }\n",
       "\n",
       "    .dataframe tbody tr th {\n",
       "        vertical-align: top;\n",
       "    }\n",
       "\n",
       "    .dataframe thead th {\n",
       "        text-align: right;\n",
       "    }\n",
       "</style>\n",
       "<table border=\"1\" class=\"dataframe\">\n",
       "  <thead>\n",
       "    <tr style=\"text-align: right;\">\n",
       "      <th></th>\n",
       "      <th>series_id</th>\n",
       "      <th>orientation_X</th>\n",
       "      <th>orientation_Y</th>\n",
       "      <th>orientation_Z</th>\n",
       "      <th>orientation_W</th>\n",
       "      <th>angular_velocity_X</th>\n",
       "      <th>angular_velocity_Y</th>\n",
       "      <th>angular_velocity_Z</th>\n",
       "      <th>linear_acceleration_X</th>\n",
       "      <th>linear_acceleration_Y</th>\n",
       "      <th>linear_acceleration_Z</th>\n",
       "    </tr>\n",
       "  </thead>\n",
       "  <tbody>\n",
       "    <tr>\n",
       "      <th>0</th>\n",
       "      <td>0</td>\n",
       "      <td>-0.75853</td>\n",
       "      <td>-0.63435</td>\n",
       "      <td>-0.10488</td>\n",
       "      <td>-0.10597</td>\n",
       "      <td>0.10765</td>\n",
       "      <td>0.017561</td>\n",
       "      <td>0.000767</td>\n",
       "      <td>-0.74857</td>\n",
       "      <td>2.103</td>\n",
       "      <td>-9.7532</td>\n",
       "    </tr>\n",
       "  </tbody>\n",
       "</table>\n",
       "</div>"
      ],
      "text/plain": [
       "   series_id  orientation_X  orientation_Y  orientation_Z  orientation_W  \\\n",
       "0          0       -0.75853       -0.63435       -0.10488       -0.10597   \n",
       "\n",
       "   angular_velocity_X  angular_velocity_Y  angular_velocity_Z  \\\n",
       "0             0.10765            0.017561            0.000767   \n",
       "\n",
       "   linear_acceleration_X  linear_acceleration_Y  linear_acceleration_Z  \n",
       "0               -0.74857                  2.103                -9.7532  "
      ]
     },
     "execution_count": 12,
     "metadata": {},
     "output_type": "execute_result"
    }
   ],
   "source": [
    "X_train.head(1)"
   ]
  },
  {
   "cell_type": "code",
   "execution_count": 13,
   "metadata": {},
   "outputs": [
    {
     "data": {
      "text/html": [
       "<div>\n",
       "<style scoped>\n",
       "    .dataframe tbody tr th:only-of-type {\n",
       "        vertical-align: middle;\n",
       "    }\n",
       "\n",
       "    .dataframe tbody tr th {\n",
       "        vertical-align: top;\n",
       "    }\n",
       "\n",
       "    .dataframe thead th {\n",
       "        text-align: right;\n",
       "    }\n",
       "</style>\n",
       "<table border=\"1\" class=\"dataframe\">\n",
       "  <thead>\n",
       "    <tr style=\"text-align: right;\">\n",
       "      <th></th>\n",
       "      <th>series_id</th>\n",
       "      <th>orientation_X</th>\n",
       "      <th>orientation_Y</th>\n",
       "      <th>orientation_Z</th>\n",
       "      <th>orientation_W</th>\n",
       "      <th>angular_velocity_X</th>\n",
       "      <th>angular_velocity_Y</th>\n",
       "      <th>angular_velocity_Z</th>\n",
       "      <th>linear_acceleration_X</th>\n",
       "      <th>linear_acceleration_Y</th>\n",
       "      <th>linear_acceleration_Z</th>\n",
       "    </tr>\n",
       "  </thead>\n",
       "  <tbody>\n",
       "    <tr>\n",
       "      <th>485120</th>\n",
       "      <td>3790</td>\n",
       "      <td>0.70992</td>\n",
       "      <td>0.68801</td>\n",
       "      <td>0.10876</td>\n",
       "      <td>0.10405</td>\n",
       "      <td>-0.87528</td>\n",
       "      <td>0.13835</td>\n",
       "      <td>0.037472</td>\n",
       "      <td>-2.455</td>\n",
       "      <td>-0.89309</td>\n",
       "      <td>-20.604</td>\n",
       "    </tr>\n",
       "  </tbody>\n",
       "</table>\n",
       "</div>"
      ],
      "text/plain": [
       "        series_id  orientation_X  orientation_Y  orientation_Z  orientation_W  \\\n",
       "485120       3790        0.70992        0.68801        0.10876        0.10405   \n",
       "\n",
       "        angular_velocity_X  angular_velocity_Y  angular_velocity_Z  \\\n",
       "485120            -0.87528             0.13835            0.037472   \n",
       "\n",
       "        linear_acceleration_X  linear_acceleration_Y  linear_acceleration_Z  \n",
       "485120                 -2.455               -0.89309                -20.604  "
      ]
     },
     "execution_count": 13,
     "metadata": {},
     "output_type": "execute_result"
    }
   ],
   "source": [
    "X_test.head(1)"
   ]
  },
  {
   "cell_type": "code",
   "execution_count": 14,
   "metadata": {},
   "outputs": [
    {
     "data": {
      "text/html": [
       "<div>\n",
       "<style scoped>\n",
       "    .dataframe tbody tr th:only-of-type {\n",
       "        vertical-align: middle;\n",
       "    }\n",
       "\n",
       "    .dataframe tbody tr th {\n",
       "        vertical-align: top;\n",
       "    }\n",
       "\n",
       "    .dataframe thead th {\n",
       "        text-align: right;\n",
       "    }\n",
       "</style>\n",
       "<table border=\"1\" class=\"dataframe\">\n",
       "  <thead>\n",
       "    <tr style=\"text-align: right;\">\n",
       "      <th></th>\n",
       "      <th>series_id</th>\n",
       "      <th>surface</th>\n",
       "    </tr>\n",
       "  </thead>\n",
       "  <tbody>\n",
       "    <tr>\n",
       "      <th>0</th>\n",
       "      <td>0</td>\n",
       "      <td>fine_concrete</td>\n",
       "    </tr>\n",
       "  </tbody>\n",
       "</table>\n",
       "</div>"
      ],
      "text/plain": [
       "   series_id        surface\n",
       "0          0  fine_concrete"
      ]
     },
     "execution_count": 14,
     "metadata": {},
     "output_type": "execute_result"
    }
   ],
   "source": [
    "y_train.head(1)"
   ]
  },
  {
   "cell_type": "code",
   "execution_count": 15,
   "metadata": {},
   "outputs": [
    {
     "data": {
      "text/html": [
       "<div>\n",
       "<style scoped>\n",
       "    .dataframe tbody tr th:only-of-type {\n",
       "        vertical-align: middle;\n",
       "    }\n",
       "\n",
       "    .dataframe tbody tr th {\n",
       "        vertical-align: top;\n",
       "    }\n",
       "\n",
       "    .dataframe thead th {\n",
       "        text-align: right;\n",
       "    }\n",
       "</style>\n",
       "<table border=\"1\" class=\"dataframe\">\n",
       "  <thead>\n",
       "    <tr style=\"text-align: right;\">\n",
       "      <th></th>\n",
       "      <th>series_id</th>\n",
       "      <th>surface</th>\n",
       "    </tr>\n",
       "  </thead>\n",
       "  <tbody>\n",
       "    <tr>\n",
       "      <th>3790</th>\n",
       "      <td>3790</td>\n",
       "      <td>hard_tiles_large_space</td>\n",
       "    </tr>\n",
       "  </tbody>\n",
       "</table>\n",
       "</div>"
      ],
      "text/plain": [
       "      series_id                 surface\n",
       "3790       3790  hard_tiles_large_space"
      ]
     },
     "execution_count": 15,
     "metadata": {},
     "output_type": "execute_result"
    }
   ],
   "source": [
    "y_test.head(1)"
   ]
  },
  {
   "cell_type": "markdown",
   "metadata": {},
   "source": [
    "We have 128 measurements for each series, it is hard to train  \n",
    "So we want to compress these 128 measurements into a single measurement  \n",
    "First, we will add 3 more features to each measurement, which will be the sum of orientation, angular_velocity, and linear_acceleration"
   ]
  },
  {
   "cell_type": "code",
   "execution_count": 16,
   "metadata": {},
   "outputs": [],
   "source": [
    "columns = ['orientation', 'angular_velocity', 'linear_acceleration']\n",
    "for i in columns:\n",
    "    if(i == 'orientation'):\n",
    "        X_train[i] = X_train[i+'_X'] + X_train[i+'_Y'] + X_train[i+'_Z'] + X_train[i+'_W']\n",
    "        X_test[i] = X_test[i+'_X'] + X_test[i+'_Y'] + X_test[i+'_Z'] + X_test[i+'_W']\n",
    "    else:\n",
    "        X_train[i] = X_train[i+'_X'] + X_train[i+'_Y'] + X_train[i+'_Z']\n",
    "        X_test[i] = X_test[i+'_X'] + X_test[i+'_Y'] + X_test[i+'_Z']"
   ]
  },
  {
   "cell_type": "code",
   "execution_count": 17,
   "metadata": {},
   "outputs": [
    {
     "data": {
      "text/html": [
       "<div>\n",
       "<style scoped>\n",
       "    .dataframe tbody tr th:only-of-type {\n",
       "        vertical-align: middle;\n",
       "    }\n",
       "\n",
       "    .dataframe tbody tr th {\n",
       "        vertical-align: top;\n",
       "    }\n",
       "\n",
       "    .dataframe thead th {\n",
       "        text-align: right;\n",
       "    }\n",
       "</style>\n",
       "<table border=\"1\" class=\"dataframe\">\n",
       "  <thead>\n",
       "    <tr style=\"text-align: right;\">\n",
       "      <th></th>\n",
       "      <th>series_id</th>\n",
       "      <th>orientation_X</th>\n",
       "      <th>orientation_Y</th>\n",
       "      <th>orientation_Z</th>\n",
       "      <th>orientation_W</th>\n",
       "      <th>angular_velocity_X</th>\n",
       "      <th>angular_velocity_Y</th>\n",
       "      <th>angular_velocity_Z</th>\n",
       "      <th>linear_acceleration_X</th>\n",
       "      <th>linear_acceleration_Y</th>\n",
       "      <th>linear_acceleration_Z</th>\n",
       "      <th>orientation</th>\n",
       "      <th>angular_velocity</th>\n",
       "      <th>linear_acceleration</th>\n",
       "    </tr>\n",
       "  </thead>\n",
       "  <tbody>\n",
       "    <tr>\n",
       "      <th>0</th>\n",
       "      <td>0</td>\n",
       "      <td>-0.75853</td>\n",
       "      <td>-0.63435</td>\n",
       "      <td>-0.10488</td>\n",
       "      <td>-0.10597</td>\n",
       "      <td>0.10765</td>\n",
       "      <td>0.017561</td>\n",
       "      <td>0.000767</td>\n",
       "      <td>-0.74857</td>\n",
       "      <td>2.103</td>\n",
       "      <td>-9.7532</td>\n",
       "      <td>-1.60373</td>\n",
       "      <td>0.125978</td>\n",
       "      <td>-8.39877</td>\n",
       "    </tr>\n",
       "  </tbody>\n",
       "</table>\n",
       "</div>"
      ],
      "text/plain": [
       "   series_id  orientation_X  orientation_Y  orientation_Z  orientation_W  \\\n",
       "0          0       -0.75853       -0.63435       -0.10488       -0.10597   \n",
       "\n",
       "   angular_velocity_X  angular_velocity_Y  angular_velocity_Z  \\\n",
       "0             0.10765            0.017561            0.000767   \n",
       "\n",
       "   linear_acceleration_X  linear_acceleration_Y  linear_acceleration_Z  \\\n",
       "0               -0.74857                  2.103                -9.7532   \n",
       "\n",
       "   orientation  angular_velocity  linear_acceleration  \n",
       "0     -1.60373          0.125978             -8.39877  "
      ]
     },
     "execution_count": 17,
     "metadata": {},
     "output_type": "execute_result"
    }
   ],
   "source": [
    "X_train.head(1)"
   ]
  },
  {
   "cell_type": "code",
   "execution_count": 18,
   "metadata": {},
   "outputs": [
    {
     "data": {
      "text/html": [
       "<div>\n",
       "<style scoped>\n",
       "    .dataframe tbody tr th:only-of-type {\n",
       "        vertical-align: middle;\n",
       "    }\n",
       "\n",
       "    .dataframe tbody tr th {\n",
       "        vertical-align: top;\n",
       "    }\n",
       "\n",
       "    .dataframe thead th {\n",
       "        text-align: right;\n",
       "    }\n",
       "</style>\n",
       "<table border=\"1\" class=\"dataframe\">\n",
       "  <thead>\n",
       "    <tr style=\"text-align: right;\">\n",
       "      <th></th>\n",
       "      <th>series_id</th>\n",
       "      <th>orientation_X</th>\n",
       "      <th>orientation_Y</th>\n",
       "      <th>orientation_Z</th>\n",
       "      <th>orientation_W</th>\n",
       "      <th>angular_velocity_X</th>\n",
       "      <th>angular_velocity_Y</th>\n",
       "      <th>angular_velocity_Z</th>\n",
       "      <th>linear_acceleration_X</th>\n",
       "      <th>linear_acceleration_Y</th>\n",
       "      <th>linear_acceleration_Z</th>\n",
       "      <th>orientation</th>\n",
       "      <th>angular_velocity</th>\n",
       "      <th>linear_acceleration</th>\n",
       "    </tr>\n",
       "  </thead>\n",
       "  <tbody>\n",
       "    <tr>\n",
       "      <th>485120</th>\n",
       "      <td>3790</td>\n",
       "      <td>0.70992</td>\n",
       "      <td>0.68801</td>\n",
       "      <td>0.10876</td>\n",
       "      <td>0.10405</td>\n",
       "      <td>-0.87528</td>\n",
       "      <td>0.13835</td>\n",
       "      <td>0.037472</td>\n",
       "      <td>-2.455</td>\n",
       "      <td>-0.89309</td>\n",
       "      <td>-20.604</td>\n",
       "      <td>1.61074</td>\n",
       "      <td>-0.699458</td>\n",
       "      <td>-23.95209</td>\n",
       "    </tr>\n",
       "  </tbody>\n",
       "</table>\n",
       "</div>"
      ],
      "text/plain": [
       "        series_id  orientation_X  orientation_Y  orientation_Z  orientation_W  \\\n",
       "485120       3790        0.70992        0.68801        0.10876        0.10405   \n",
       "\n",
       "        angular_velocity_X  angular_velocity_Y  angular_velocity_Z  \\\n",
       "485120            -0.87528             0.13835            0.037472   \n",
       "\n",
       "        linear_acceleration_X  linear_acceleration_Y  linear_acceleration_Z  \\\n",
       "485120                 -2.455               -0.89309                -20.604   \n",
       "\n",
       "        orientation  angular_velocity  linear_acceleration  \n",
       "485120      1.61074         -0.699458            -23.95209  "
      ]
     },
     "execution_count": 18,
     "metadata": {},
     "output_type": "execute_result"
    }
   ],
   "source": [
    "X_test.head(1)"
   ]
  },
  {
   "cell_type": "markdown",
   "metadata": {},
   "source": [
    "Next, we want to calculate *max, min, mean, median, abs_max, std, quartile(25%), quartile(50%), quartile(75%)* for each series (128 measurements) to maintain as much information as possiable  \n",
    "* Every sample has 13 features before, each of the features will become 9 values after compression, so there will be 9 * 13 features for each sample after calculation\n",
    "* There was 485120 measurements before compression, and will become 485120 / 128 = 3790 samples after calsulation"
   ]
  },
  {
   "cell_type": "code",
   "execution_count": 19,
   "metadata": {},
   "outputs": [
    {
     "name": "stdout",
     "output_type": "stream",
     "text": [
      "CPU times: user 19.2 s, sys: 415 ms, total: 19.6 s\n",
      "Wall time: 19.6 s\n"
     ]
    }
   ],
   "source": [
    "%%time\n",
    "\n",
    "T_train = pd.DataFrame()\n",
    "T_test = pd.DataFrame()\n",
    "\n",
    "for i in X_train.columns[1:]:\n",
    "    T_train[i+'_max'] = X_train.groupby(by='series_id')[i].max()\n",
    "    T_test[i+'_max'] = X_test.groupby(by='series_id')[i].max()\n",
    "\n",
    "    T_train[i+'_min'] = X_train.groupby(by='series_id')[i].min()\n",
    "    T_test[i+'_min'] = X_test.groupby(by='series_id')[i].min()\n",
    "\n",
    "    T_train[i+'_mean'] = X_train.groupby(by='series_id')[i].mean()\n",
    "    T_test[i+'_mean'] = X_test.groupby(by='series_id')[i].mean()\n",
    "\n",
    "    T_train[i+'_median'] = X_train.groupby(by='series_id')[i].median()\n",
    "    T_test[i+'_median'] = X_test.groupby(by='series_id')[i].median()\n",
    "\n",
    "    T_train[i+'_quantile_25'] = X_train.groupby(by='series_id')[i].quantile(0.25)\n",
    "    T_test[i+'_quantile_25'] = X_test.groupby(by='series_id')[i].quantile(0.25)\n",
    "\n",
    "    T_train[i+'_quantile_50'] = X_train.groupby(by='series_id')[i].quantile(0.5)\n",
    "    T_test[i+'_quantile_50'] = X_test.groupby(by='series_id')[i].quantile(0.5)\n",
    "\n",
    "    T_train[i+'_quantile_75'] = X_train.groupby(by='series_id')[i].quantile(0.75)\n",
    "    T_test[i+'_quantile_75'] = X_test.groupby(by='series_id')[i].quantile(0.75)\n",
    "\n",
    "    T_train[i+'_abs_max'] = X_train.groupby(by='series_id')[i].apply(lambda x: np.max(np.abs(x)))\n",
    "    T_test[i+'_abs_max'] = X_test.groupby(by='series_id')[i].apply(lambda x: np.max(np.abs(x)))\n",
    "\n",
    "    T_train[i+'_std'] = X_train.groupby(by='series_id')[i].std()\n",
    "    T_test[i+'_std'] = X_test.groupby(by='series_id')[i].std()\n",
    "    \n",
    "X_train = T_train\n",
    "X_test = T_test"
   ]
  },
  {
   "cell_type": "code",
   "execution_count": 20,
   "metadata": {},
   "outputs": [
    {
     "data": {
      "text/html": [
       "<div>\n",
       "<style scoped>\n",
       "    .dataframe tbody tr th:only-of-type {\n",
       "        vertical-align: middle;\n",
       "    }\n",
       "\n",
       "    .dataframe tbody tr th {\n",
       "        vertical-align: top;\n",
       "    }\n",
       "\n",
       "    .dataframe thead th {\n",
       "        text-align: right;\n",
       "    }\n",
       "</style>\n",
       "<table border=\"1\" class=\"dataframe\">\n",
       "  <thead>\n",
       "    <tr style=\"text-align: right;\">\n",
       "      <th></th>\n",
       "      <th>orientation_X_max</th>\n",
       "      <th>orientation_X_min</th>\n",
       "      <th>orientation_X_mean</th>\n",
       "      <th>orientation_X_median</th>\n",
       "      <th>orientation_X_quantile_25</th>\n",
       "      <th>orientation_X_quantile_50</th>\n",
       "      <th>orientation_X_quantile_75</th>\n",
       "      <th>orientation_X_abs_max</th>\n",
       "      <th>orientation_X_std</th>\n",
       "      <th>orientation_Y_max</th>\n",
       "      <th>...</th>\n",
       "      <th>angular_velocity_std</th>\n",
       "      <th>linear_acceleration_max</th>\n",
       "      <th>linear_acceleration_min</th>\n",
       "      <th>linear_acceleration_mean</th>\n",
       "      <th>linear_acceleration_median</th>\n",
       "      <th>linear_acceleration_quantile_25</th>\n",
       "      <th>linear_acceleration_quantile_50</th>\n",
       "      <th>linear_acceleration_quantile_75</th>\n",
       "      <th>linear_acceleration_abs_max</th>\n",
       "      <th>linear_acceleration_std</th>\n",
       "    </tr>\n",
       "    <tr>\n",
       "      <th>series_id</th>\n",
       "      <th></th>\n",
       "      <th></th>\n",
       "      <th></th>\n",
       "      <th></th>\n",
       "      <th></th>\n",
       "      <th></th>\n",
       "      <th></th>\n",
       "      <th></th>\n",
       "      <th></th>\n",
       "      <th></th>\n",
       "      <th></th>\n",
       "      <th></th>\n",
       "      <th></th>\n",
       "      <th></th>\n",
       "      <th></th>\n",
       "      <th></th>\n",
       "      <th></th>\n",
       "      <th></th>\n",
       "      <th></th>\n",
       "      <th></th>\n",
       "      <th></th>\n",
       "    </tr>\n",
       "  </thead>\n",
       "  <tbody>\n",
       "    <tr>\n",
       "      <th>0</th>\n",
       "      <td>-0.75822</td>\n",
       "      <td>-0.75953</td>\n",
       "      <td>-0.758666</td>\n",
       "      <td>-0.75853</td>\n",
       "      <td>-0.758927</td>\n",
       "      <td>-0.75853</td>\n",
       "      <td>-0.758367</td>\n",
       "      <td>0.75953</td>\n",
       "      <td>0.000363</td>\n",
       "      <td>-0.63306</td>\n",
       "      <td>...</td>\n",
       "      <td>0.054317</td>\n",
       "      <td>-1.2896</td>\n",
       "      <td>-12.3536</td>\n",
       "      <td>-6.072777</td>\n",
       "      <td>-5.908943</td>\n",
       "      <td>-7.654925</td>\n",
       "      <td>-5.908943</td>\n",
       "      <td>-4.575425</td>\n",
       "      <td>12.3536</td>\n",
       "      <td>2.435261</td>\n",
       "    </tr>\n",
       "  </tbody>\n",
       "</table>\n",
       "<p>1 rows × 117 columns</p>\n",
       "</div>"
      ],
      "text/plain": [
       "           orientation_X_max  orientation_X_min  orientation_X_mean  \\\n",
       "series_id                                                             \n",
       "0                   -0.75822           -0.75953           -0.758666   \n",
       "\n",
       "           orientation_X_median  orientation_X_quantile_25  \\\n",
       "series_id                                                    \n",
       "0                      -0.75853                  -0.758927   \n",
       "\n",
       "           orientation_X_quantile_50  orientation_X_quantile_75  \\\n",
       "series_id                                                         \n",
       "0                           -0.75853                  -0.758367   \n",
       "\n",
       "           orientation_X_abs_max  orientation_X_std  orientation_Y_max  ...  \\\n",
       "series_id                                                               ...   \n",
       "0                        0.75953           0.000363           -0.63306  ...   \n",
       "\n",
       "           angular_velocity_std  linear_acceleration_max  \\\n",
       "series_id                                                  \n",
       "0                      0.054317                  -1.2896   \n",
       "\n",
       "           linear_acceleration_min  linear_acceleration_mean  \\\n",
       "series_id                                                      \n",
       "0                         -12.3536                 -6.072777   \n",
       "\n",
       "           linear_acceleration_median  linear_acceleration_quantile_25  \\\n",
       "series_id                                                                \n",
       "0                           -5.908943                        -7.654925   \n",
       "\n",
       "           linear_acceleration_quantile_50  linear_acceleration_quantile_75  \\\n",
       "series_id                                                                     \n",
       "0                                -5.908943                        -4.575425   \n",
       "\n",
       "           linear_acceleration_abs_max  linear_acceleration_std  \n",
       "series_id                                                        \n",
       "0                              12.3536                 2.435261  \n",
       "\n",
       "[1 rows x 117 columns]"
      ]
     },
     "execution_count": 20,
     "metadata": {},
     "output_type": "execute_result"
    }
   ],
   "source": [
    "X_train.head(1)"
   ]
  },
  {
   "cell_type": "code",
   "execution_count": 21,
   "metadata": {},
   "outputs": [
    {
     "data": {
      "text/plain": [
       "(3790, 117)"
      ]
     },
     "execution_count": 21,
     "metadata": {},
     "output_type": "execute_result"
    }
   ],
   "source": [
    "X_train.shape"
   ]
  },
  {
   "cell_type": "code",
   "execution_count": 22,
   "metadata": {},
   "outputs": [
    {
     "data": {
      "text/html": [
       "<div>\n",
       "<style scoped>\n",
       "    .dataframe tbody tr th:only-of-type {\n",
       "        vertical-align: middle;\n",
       "    }\n",
       "\n",
       "    .dataframe tbody tr th {\n",
       "        vertical-align: top;\n",
       "    }\n",
       "\n",
       "    .dataframe thead th {\n",
       "        text-align: right;\n",
       "    }\n",
       "</style>\n",
       "<table border=\"1\" class=\"dataframe\">\n",
       "  <thead>\n",
       "    <tr style=\"text-align: right;\">\n",
       "      <th></th>\n",
       "      <th>orientation_X_max</th>\n",
       "      <th>orientation_X_min</th>\n",
       "      <th>orientation_X_mean</th>\n",
       "      <th>orientation_X_median</th>\n",
       "      <th>orientation_X_quantile_25</th>\n",
       "      <th>orientation_X_quantile_50</th>\n",
       "      <th>orientation_X_quantile_75</th>\n",
       "      <th>orientation_X_abs_max</th>\n",
       "      <th>orientation_X_std</th>\n",
       "      <th>orientation_Y_max</th>\n",
       "      <th>...</th>\n",
       "      <th>angular_velocity_std</th>\n",
       "      <th>linear_acceleration_max</th>\n",
       "      <th>linear_acceleration_min</th>\n",
       "      <th>linear_acceleration_mean</th>\n",
       "      <th>linear_acceleration_median</th>\n",
       "      <th>linear_acceleration_quantile_25</th>\n",
       "      <th>linear_acceleration_quantile_50</th>\n",
       "      <th>linear_acceleration_quantile_75</th>\n",
       "      <th>linear_acceleration_abs_max</th>\n",
       "      <th>linear_acceleration_std</th>\n",
       "    </tr>\n",
       "    <tr>\n",
       "      <th>series_id</th>\n",
       "      <th></th>\n",
       "      <th></th>\n",
       "      <th></th>\n",
       "      <th></th>\n",
       "      <th></th>\n",
       "      <th></th>\n",
       "      <th></th>\n",
       "      <th></th>\n",
       "      <th></th>\n",
       "      <th></th>\n",
       "      <th></th>\n",
       "      <th></th>\n",
       "      <th></th>\n",
       "      <th></th>\n",
       "      <th></th>\n",
       "      <th></th>\n",
       "      <th></th>\n",
       "      <th></th>\n",
       "      <th></th>\n",
       "      <th></th>\n",
       "      <th></th>\n",
       "    </tr>\n",
       "  </thead>\n",
       "  <tbody>\n",
       "    <tr>\n",
       "      <th>3790</th>\n",
       "      <td>0.71142</td>\n",
       "      <td>0.70935</td>\n",
       "      <td>0.710416</td>\n",
       "      <td>0.710435</td>\n",
       "      <td>0.70993</td>\n",
       "      <td>0.710435</td>\n",
       "      <td>0.710742</td>\n",
       "      <td>0.71142</td>\n",
       "      <td>0.000525</td>\n",
       "      <td>0.68865</td>\n",
       "      <td>...</td>\n",
       "      <td>0.404159</td>\n",
       "      <td>36.1585</td>\n",
       "      <td>-40.3143</td>\n",
       "      <td>-6.246652</td>\n",
       "      <td>-6.895725</td>\n",
       "      <td>-13.283697</td>\n",
       "      <td>-6.895725</td>\n",
       "      <td>1.886032</td>\n",
       "      <td>40.3143</td>\n",
       "      <td>13.149371</td>\n",
       "    </tr>\n",
       "  </tbody>\n",
       "</table>\n",
       "<p>1 rows × 117 columns</p>\n",
       "</div>"
      ],
      "text/plain": [
       "           orientation_X_max  orientation_X_min  orientation_X_mean  \\\n",
       "series_id                                                             \n",
       "3790                 0.71142            0.70935            0.710416   \n",
       "\n",
       "           orientation_X_median  orientation_X_quantile_25  \\\n",
       "series_id                                                    \n",
       "3790                   0.710435                    0.70993   \n",
       "\n",
       "           orientation_X_quantile_50  orientation_X_quantile_75  \\\n",
       "series_id                                                         \n",
       "3790                        0.710435                   0.710742   \n",
       "\n",
       "           orientation_X_abs_max  orientation_X_std  orientation_Y_max  ...  \\\n",
       "series_id                                                               ...   \n",
       "3790                     0.71142           0.000525            0.68865  ...   \n",
       "\n",
       "           angular_velocity_std  linear_acceleration_max  \\\n",
       "series_id                                                  \n",
       "3790                   0.404159                  36.1585   \n",
       "\n",
       "           linear_acceleration_min  linear_acceleration_mean  \\\n",
       "series_id                                                      \n",
       "3790                      -40.3143                 -6.246652   \n",
       "\n",
       "           linear_acceleration_median  linear_acceleration_quantile_25  \\\n",
       "series_id                                                                \n",
       "3790                        -6.895725                       -13.283697   \n",
       "\n",
       "           linear_acceleration_quantile_50  linear_acceleration_quantile_75  \\\n",
       "series_id                                                                     \n",
       "3790                             -6.895725                         1.886032   \n",
       "\n",
       "           linear_acceleration_abs_max  linear_acceleration_std  \n",
       "series_id                                                        \n",
       "3790                           40.3143                13.149371  \n",
       "\n",
       "[1 rows x 117 columns]"
      ]
     },
     "execution_count": 22,
     "metadata": {},
     "output_type": "execute_result"
    }
   ],
   "source": [
    "X_test.head(1)"
   ]
  },
  {
   "cell_type": "code",
   "execution_count": 23,
   "metadata": {},
   "outputs": [
    {
     "data": {
      "text/plain": [
       "(20, 117)"
      ]
     },
     "execution_count": 23,
     "metadata": {},
     "output_type": "execute_result"
    }
   ],
   "source": [
    "X_test.shape"
   ]
  },
  {
   "cell_type": "markdown",
   "metadata": {},
   "source": [
    "## Train and test model\n",
    "For this project, I am using Random Forest Classifier from scikit-learn to train the model  \n",
    "Since this project is a classify problem, it is very suitable for using ensemble learning  \n",
    "* we'll set 300 estimators (after trying many times, I find this number will get the nearly best result and won't cost too much time)\n",
    "* Set a random seed (I set it to the course number of AI hhh)\n",
    "* The default bootstrap parameter is set to True, it means that we are using bagging. But since there're almost 30% of the samples will not be chosen in the training model, we will set oob_score to True, so that we can use those not chosen smaples to test the accuracy of our model\n",
    "* Set n_jobs to -1, we want to use every single CPU to train our model so that it won't take too long"
   ]
  },
  {
   "cell_type": "code",
   "execution_count": 24,
   "metadata": {},
   "outputs": [
    {
     "name": "stdout",
     "output_type": "stream",
     "text": [
      "CPU times: user 12.7 s, sys: 210 ms, total: 12.9 s\n",
      "Wall time: 2.53 s\n"
     ]
    },
    {
     "data": {
      "text/plain": [
       "RandomForestClassifier(bootstrap=True, ccp_alpha=0.0, class_weight=None,\n",
       "                       criterion='gini', max_depth=None, max_features='auto',\n",
       "                       max_leaf_nodes=None, max_samples=None,\n",
       "                       min_impurity_decrease=0.0, min_impurity_split=None,\n",
       "                       min_samples_leaf=1, min_samples_split=2,\n",
       "                       min_weight_fraction_leaf=0.0, n_estimators=300,\n",
       "                       n_jobs=-1, oob_score=True, random_state=6613, verbose=0,\n",
       "                       warm_start=False)"
      ]
     },
     "execution_count": 24,
     "metadata": {},
     "output_type": "execute_result"
    }
   ],
   "source": [
    "%%time\n",
    "\n",
    "rf_clf = RandomForestClassifier(n_estimators=300,\n",
    "                                random_state=6613,\n",
    "                                oob_score=True,\n",
    "                                n_jobs=-1)\n",
    "rf_clf.fit(X_train, y_train['surface'])"
   ]
  },
  {
   "cell_type": "markdown",
   "metadata": {},
   "source": [
    "After training the model, let's see the accuracy of our model, and we are using:  \n",
    "* Out-of-bag score\n",
    "* 10-Fold cross validation\n",
    "* Testing set split from training set\n",
    "\n",
    "We can see that this model can get about 89.6% accuracy"
   ]
  },
  {
   "cell_type": "code",
   "execution_count": 25,
   "metadata": {},
   "outputs": [
    {
     "data": {
      "text/plain": [
       "0.8968337730870712"
      ]
     },
     "execution_count": 25,
     "metadata": {},
     "output_type": "execute_result"
    }
   ],
   "source": [
    "rf_clf.oob_score_"
   ]
  },
  {
   "cell_type": "code",
   "execution_count": 26,
   "metadata": {},
   "outputs": [
    {
     "name": "stdout",
     "output_type": "stream",
     "text": [
      "Accuracy: 0.88 (+/- 0.05)\n",
      "CPU times: user 9.84 s, sys: 1.48 s, total: 11.3 s\n",
      "Wall time: 26.5 s\n"
     ]
    }
   ],
   "source": [
    "%%time\n",
    "scores = cross_val_score(rf_clf, X_train, y_train['surface'], cv = 10)\n",
    "print('Accuracy: {:.2f} (+/- {:.2f})'.format(scores.mean(), scores.std() * 2))"
   ]
  },
  {
   "cell_type": "code",
   "execution_count": 27,
   "metadata": {},
   "outputs": [
    {
     "data": {
      "text/plain": [
       "0.85"
      ]
     },
     "execution_count": 27,
     "metadata": {},
     "output_type": "execute_result"
    }
   ],
   "source": [
    "rf_clf.score(X_test, y_test['surface'])"
   ]
  }
 ],
 "metadata": {
  "kernelspec": {
   "display_name": "Python 3",
   "language": "python",
   "name": "python3"
  },
  "language_info": {
   "codemirror_mode": {
    "name": "ipython",
    "version": 3
   },
   "file_extension": ".py",
   "mimetype": "text/x-python",
   "name": "python",
   "nbconvert_exporter": "python",
   "pygments_lexer": "ipython3",
   "version": "3.6.10"
  },
  "toc": {
   "base_numbering": 1,
   "nav_menu": {},
   "number_sections": true,
   "sideBar": true,
   "skip_h1_title": false,
   "title_cell": "Table of Contents",
   "title_sidebar": "Contents",
   "toc_cell": false,
   "toc_position": {},
   "toc_section_display": true,
   "toc_window_display": false
  }
 },
 "nbformat": 4,
 "nbformat_minor": 1
}
